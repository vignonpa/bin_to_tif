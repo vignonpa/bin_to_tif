{
 "cells": [
  {
   "cell_type": "markdown",
   "id": "c9b492d6",
   "metadata": {},
   "source": [
    "\n",
    "# BIN to TIF Conversion (Latitude, Longitude, Value)\n",
    "\n",
    "This notebook converts three **binary (.bin)** files containing **latitude, longitude, and values** \n",
    "into a single georeferenced **.TIF** file.  \n",
    "\n",
    "---\n"
   ]
  },
  {
   "cell_type": "markdown",
   "id": "6716ae9b",
   "metadata": {},
   "source": [
    "## Import needed libraries"
   ]
  },
  {
   "cell_type": "code",
   "execution_count": 1,
   "id": "f5bed025",
   "metadata": {},
   "outputs": [],
   "source": [
    "\n",
    "import numpy as np\n",
    "import matplotlib.pyplot as plt\n",
    "from pathlib import Path\n",
    "from tifffile import imwrite\n"
   ]
  },
  {
   "cell_type": "markdown",
   "id": "36d6ccb5",
   "metadata": {},
   "source": [
    "## General parameters"
   ]
  },
  {
   "cell_type": "code",
   "execution_count": 25,
   "id": "b9854cc1",
   "metadata": {},
   "outputs": [],
   "source": [
    "\n",
    "# Input directory containing BIN files\n",
    "input_dir = Path(\"data/bin_files\")\n",
    "\n",
    "# Output directory for TIF files\n",
    "output_dir = Path(\"data/tif_files\")\n",
    "output_dir.mkdir(parents=True, exist_ok=True)\n",
    "\n",
    "# Expected shape of the data (to be adapted to your dataset)\n",
    "image_shape = (512, 512)  # Example: 512x512 pixels\n",
    "\n",
    "# File names \n",
    "lat_file = input_dir / \"latitude.bin\"\n",
    "lon_file = input_dir / \"longitude.bin\"\n",
    "val_file = input_dir / \"values.bin\"\n",
    "\n",
    "# Output TIF file\n",
    "output_file = output_dir / \"output_image.tif\"\n"
   ]
  },
  {
   "cell_type": "markdown",
   "id": "d5a97df3",
   "metadata": {},
   "source": [
    "## Functions"
   ]
  },
  {
   "cell_type": "code",
   "execution_count": 20,
   "id": "33c31f9b",
   "metadata": {},
   "outputs": [],
   "source": [
    "\n",
    "def load_bin_file(bin_path: Path, dtype=np.float32) -> np.ndarray:\n",
    "    \"\"\"\n",
    "    Load a binary file into a numpy array.\n",
    "\n",
    "    Args:\n",
    "        bin_path (Path): Path to the .bin file\n",
    "        dtype (np.dtype): Data type of the binary file\n",
    "\n",
    "    Returns:\n",
    "        np.ndarray: 1D numpy array containing the file data\n",
    "    \"\"\"\n",
    "    return np.fromfile(bin_path, dtype=dtype)\n",
    "\n",
    "\n",
    "def validate_inputs(lat: np.ndarray, lon: np.ndarray, val: np.ndarray) -> None:\n",
    "    \"\"\"\n",
    "    Validate that latitude, longitude, and value arrays have the same length.\n",
    "\n",
    "    Args:\n",
    "        lat, lon, val (np.ndarray): Arrays to validate\n",
    "\n",
    "    Raises:\n",
    "        ValueError: If the arrays do not have the same length\n",
    "    \"\"\"\n",
    "    if not (len(lat) == len(lon) == len(val)):\n",
    "        raise ValueError(f\"Input arrays must have the same length: \"\n",
    "                         f\"lat={len(lat)}, lon={len(lon)}, val={len(val)}\")\n",
    "\n",
    "\n",
    "def reshape_array(array: np.ndarray, shape: tuple[int, int]) -> np.ndarray:\n",
    "    \"\"\"\n",
    "    Reshape a flat array into a 2D image.\n",
    "\n",
    "    Args:\n",
    "        array (np.ndarray): 1D array\n",
    "        shape (tuple[int,int]): Target shape (height, width)\n",
    "\n",
    "    Returns:\n",
    "        np.ndarray: 2D reshaped array\n",
    "    \"\"\"\n",
    "    return array.reshape(shape)\n",
    "\n",
    "\n",
    "def save_as_tif(lat: np.ndarray, lon: np.ndarray, val: np.ndarray, tif_path: Path) -> None:\n",
    "    \"\"\"\n",
    "    Save latitude, longitude, and values as a 3-channel TIF.\n",
    "\n",
    "    Args:\n",
    "        lat, lon, val (np.ndarray): 2D arrays of the same shape\n",
    "        tif_path (Path): Path to output TIF file\n",
    "    \"\"\"\n",
    "    # Stack arrays into a 3D volume (channels last)\n",
    "    stacked = np.stack([lat, lon, val], axis=-1)\n",
    "    imwrite(tif_path, stacked.astype(np.float32))\n",
    "    print(f\"✅ TIF saved at {tif_path}\")\n"
   ]
  },
  {
   "cell_type": "markdown",
   "id": "7968eaca",
   "metadata": {},
   "source": [
    "## Conversion pipeline"
   ]
  },
  {
   "cell_type": "code",
   "execution_count": null,
   "id": "88804d44-e6be-4db2-9065-3c84ef1c3fa8",
   "metadata": {},
   "outputs": [],
   "source": [
    "\n",
    "# Load binary files\n",
    "lat = load_bin_file(lat_file, dtype=np.float32)\n",
    "lon = load_bin_file(lon_file, dtype=np.float32)\n",
    "val = load_bin_file(val_file, dtype=np.float32)\n",
    "\n",
    "# Validate consistency\n",
    "validate_inputs(lat, lon, val)\n",
    "\n",
    "# Reshape arrays\n",
    "lat_2d = reshape_array(lat, image_shape)\n",
    "lon_2d = reshape_array(lon, image_shape)\n",
    "val_2d = reshape_array(val, image_shape)\n",
    "\n",
    "# Save stacked TIF\n",
    "save_as_tif(lat_2d, lon_2d, val_2d, output_file)\n"
   ]
  },
  {
   "cell_type": "markdown",
   "id": "1dcc4769",
   "metadata": {},
   "source": [
    "## Basic tests and validation"
   ]
  },
  {
   "cell_type": "code",
   "execution_count": null,
   "id": "fbdcb521-028c-4cfb-a40a-ad302979b813",
   "metadata": {},
   "outputs": [],
   "source": [
    "\n",
    "print(\"Lat range:\", lat.min(), \"to\", lat.max())\n",
    "print(\"Lon range:\", lon.min(), \"to\", lon.max())\n",
    "print(\"Val range:\", val.min(), \"to\", val.max())\n",
    "\n",
    "print(\"Shapes:\", lat_2d.shape, lon_2d.shape, val_2d.shape)\n"
   ]
  },
  {
   "cell_type": "markdown",
   "id": "76e60d3c",
   "metadata": {},
   "source": [
    "## Example visualization"
   ]
  },
  {
   "cell_type": "code",
   "execution_count": null,
   "id": "56aa44d9-bfe3-4db4-bb7a-9588314b8cb2",
   "metadata": {},
   "outputs": [],
   "source": [
    "\n",
    "# Display the value array as grayscale\n",
    "plt.imshow(val_2d, cmap=\"gray\")\n",
    "plt.title(\"Value Map\")\n",
    "plt.colorbar(label=\"Value\")\n",
    "plt.axis(\"off\")\n",
    "plt.show()\n"
   ]
  },
  {
   "cell_type": "markdown",
   "id": "3e4e0890",
   "metadata": {},
   "source": [
    "\n",
    "---\n",
    "\n",
    "## 📌 Notes\n",
    "- Adapt `image_shape` and `dtype` according to your data.  \n",
    "- The three `.bin` files must have the same length.  \n",
    "- The output **TIF** stores latitude, longitude, and values in three channels.  \n",
    "- For large datasets, consider using memory mapping (`np.memmap`) instead of loading into memory.\n",
    "\n",
    "---\n"
   ]
  }
 ],
 "metadata": {
  "kernelspec": {
   "display_name": "Python 3 (ipykernel)",
   "language": "python",
   "name": "python3"
  },
  "language_info": {
   "codemirror_mode": {
    "name": "ipython",
    "version": 3
   },
   "file_extension": ".py",
   "mimetype": "text/x-python",
   "name": "python",
   "nbconvert_exporter": "python",
   "pygments_lexer": "ipython3",
   "version": "3.12.5"
  }
 },
 "nbformat": 4,
 "nbformat_minor": 5
}
