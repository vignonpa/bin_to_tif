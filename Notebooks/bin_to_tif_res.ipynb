{
 "cells": [
  {
   "cell_type": "markdown",
   "id": "3da616a5-51a8-4306-a349-2c27951f3e47",
   "metadata": {},
   "source": [
    "# BIN to TIF Conversion (Longitude, Latitude, Value)\n",
    "\n",
    "This notebook demonstrates how to convert three raw **binary files (.bin)** containing \n",
    "**longitude, latitude, and values** into a properly georeferenced **TIF** raster.  \n",
    "\n",
    "It uses `rasterio` to define the grid resolution and export the result.  \n"
   ]
  },
  {
   "cell_type": "markdown",
   "id": "36cadaf3-c3b3-40cf-b214-6f120d291206",
   "metadata": {},
   "source": [
    "## Import needed libraries"
   ]
  },
  {
   "cell_type": "code",
   "execution_count": 1,
   "id": "05f763d2-9ede-4114-b923-f4376104596a",
   "metadata": {},
   "outputs": [],
   "source": [
    "\n",
    "import numpy as np\n",
    "import rasterio\n",
    "from rasterio.transform import from_origin\n",
    "import matplotlib.pyplot as plt\n",
    "import pandas as pd\n",
    "from pathlib import Path\n"
   ]
  },
  {
   "cell_type": "markdown",
   "id": "7ba88ad9-79bd-43b7-a22e-08c234211c82",
   "metadata": {},
   "source": [
    "## Parameters"
   ]
  },
  {
   "cell_type": "code",
   "execution_count": 31,
   "id": "df9b7693-dd64-49a1-bfae-763da7a48de5",
   "metadata": {},
   "outputs": [],
   "source": [
    "\n",
    "# Input directory containing BIN files\n",
    "input_dir = Path(\"data/bin_files\")\n",
    "\n",
    "# Output directory for TIF files\n",
    "output_dir = Path(\"data/tif_files\")\n",
    "output_dir.mkdir(parents=True, exist_ok=True)\n",
    "\n",
    "# Resolution in degrees (pixel size)\n",
    "res_deg = 1 / 64   # e.g.: ~0.0156°\n",
    "\n",
    "# File names \n",
    "lat_file = input_dir / \"latitude.bin\"\n",
    "lon_file = input_dir / \"longitude.bin\"\n",
    "val_file = input_dir / \"s0linear.bin\"\n",
    "\n",
    "# Output TIF file\n",
    "output_file = output_dir / \"output_image.tif\"\n",
    "\n",
    "# Nodata values\n",
    "nodata_value = -1.0e31\n",
    "output_nodata = -9999\n"
   ]
  },
  {
   "cell_type": "markdown",
   "id": "b5388380-b94a-4894-b592-6abd6c2b972a",
   "metadata": {},
   "source": [
    "## Load and filter initial data"
   ]
  },
  {
   "cell_type": "code",
   "execution_count": null,
   "id": "f9e543ee-7802-4736-8396-0abc9c667965",
   "metadata": {},
   "outputs": [],
   "source": [
    "\n",
    "# Load binary files\n",
    "lon = np.fromfile(lon_file, dtype=\"<f4\")\n",
    "lat = np.fromfile(lat_file, dtype=\"<f4\")\n",
    "val = np.fromfile(val_file, dtype=\"<f4\")\n",
    "\n",
    "# Apply mask to keep only valid values\n",
    "mask = (\n",
    "    (lon > -180) & (lon < 180) &\n",
    "    (lat > -90) & (lat < 90) &\n",
    "    (val != nodata_value)\n",
    ")\n",
    "\n",
    "lon = lon[mask]\n",
    "lat = lat[mask]\n",
    "val = val[mask]\n",
    "\n",
    "print(f\"{len(val)} valid points remain after filtering.\")\n"
   ]
  },
  {
   "cell_type": "markdown",
   "id": "c0cf3a99-f3f2-4be3-ad4c-e8f21dd53ec6",
   "metadata": {},
   "source": [
    "## Define raster grid from resolution"
   ]
  },
  {
   "cell_type": "code",
   "execution_count": null,
   "id": "83db287a-82b9-4aa9-b085-3831968294b9",
   "metadata": {},
   "outputs": [],
   "source": [
    "\n",
    "# Grid bounds\n",
    "min_lon, max_lon = lon.min(), lon.max()\n",
    "min_lat, max_lat = lat.min(), lat.max()\n",
    "\n",
    "# Grid size in pixels\n",
    "ncols = int(np.ceil((max_lon - min_lon) / res_deg))\n",
    "nrows = int(np.ceil((max_lat - min_lat) / res_deg))\n",
    "\n",
    "print(f\"Grid size: {nrows} rows x {ncols} cols\")\n",
    "\n",
    "# Raster transform\n",
    "transform = from_origin(min_lon, max_lat, res_deg, res_deg)\n"
   ]
  },
  {
   "cell_type": "markdown",
   "id": "1289c24f-875d-436d-9c3a-29e4de26506a",
   "metadata": {},
   "source": [
    "## Rasterization of values"
   ]
  },
  {
   "cell_type": "code",
   "execution_count": 41,
   "id": "4d9fe8bf-17f9-4e3f-925b-920b0dd2a75b",
   "metadata": {},
   "outputs": [],
   "source": [
    "\n",
    "# Compute row/col indices for each point\n",
    "col = ((lon - min_lon) / res_deg).astype(int)\n",
    "row = ((max_lat - lat) / res_deg).astype(int)\n",
    "\n",
    "# Initialize empty grid\n",
    "grid = np.full((nrows, ncols), np.nan, dtype=np.float32)\n",
    "\n",
    "# Assign values to the grid\n",
    "grid[row, col] = val\n"
   ]
  },
  {
   "cell_type": "markdown",
   "id": "418413e4-d83b-4034-a3d4-4b3ddc49a5d6",
   "metadata": {},
   "source": [
    "## Export"
   ]
  },
  {
   "cell_type": "code",
   "execution_count": null,
   "id": "dc67269d-a246-4dad-8255-a2d410ceefe0",
   "metadata": {},
   "outputs": [],
   "source": [
    "\n",
    "with rasterio.open(\n",
    "    output_tif,\n",
    "    \"w\",\n",
    "    driver=\"GTiff\",\n",
    "    height=nrows,\n",
    "    width=ncols,\n",
    "    count=1,\n",
    "    dtype=grid.dtype,\n",
    "    crs=\"EPSG:4326\",\n",
    "    transform=transform,\n",
    "    nodata=output_nodata\n",
    ") as dst:\n",
    "    dst.write(np.nan_to_num(grid, nan=output_nodata), 1)\n",
    "\n",
    "print(f\"✅ Georeferenced TIF saved at {output_tif}\")\n"
   ]
  },
  {
   "cell_type": "markdown",
   "id": "ca89c965-9ac1-4e79-85b9-c55570578fe8",
   "metadata": {},
   "source": [
    "## Validation and preview"
   ]
  },
  {
   "cell_type": "code",
   "execution_count": null,
   "id": "65699267-bde8-41df-8436-5edc6c58721d",
   "metadata": {},
   "outputs": [],
   "source": [
    "\n",
    "# Show min/max values\n",
    "print(\"Longitude range:\", lon.min(), \"→\", lon.max())\n",
    "print(\"Latitude range:\", lat.min(), \"→\", lat.max())\n",
    "print(\"Value range:\", val.min(), \"→\", val.max())\n",
    "\n",
    "# Show raster preview\n",
    "plt.imshow(grid, cmap=\"viridis\", extent=[min_lon, max_lon, min_lat, max_lat])\n",
    "plt.colorbar(label=\"Value\")\n",
    "plt.title(\"GeoTIFF Preview\")\n",
    "plt.xlabel(\"Longitude\")\n",
    "plt.ylabel(\"Latitude\")\n",
    "plt.show()\n",
    "\n",
    "# Quick table preview of first points\n",
    "df = pd.DataFrame({\n",
    "    \"Longitude\": lon[:5],\n",
    "    \"Latitude\": lat[:5],\n",
    "    \"Value\": val[:5]\n",
    "})\n",
    "print(df)\n"
   ]
  },
  {
   "cell_type": "markdown",
   "id": "3f7f7652-e685-4a49-b683-e5e5018c913d",
   "metadata": {},
   "source": [
    "---\n",
    "## 📌 Notes\n",
    "- Adapt the resolution `res_deg` depending on the desired pixel size.  \n",
    "- The CRS is set to `EPSG:4326` (WGS84 lat/lon). Change if needed.  \n",
    "- Input `.bin` files must contain floats (`dtype='<f4'`). Adapt dtype if different.  \n",
    "- For very large datasets, consider using chunked processing or memory mapping.  \n",
    "---\n"
   ]
  }
 ],
 "metadata": {
  "kernelspec": {
   "display_name": "Python [conda env:base] *",
   "language": "python",
   "name": "conda-base-py"
  },
  "language_info": {
   "codemirror_mode": {
    "name": "ipython",
    "version": 3
   },
   "file_extension": ".py",
   "mimetype": "text/x-python",
   "name": "python",
   "nbconvert_exporter": "python",
   "pygments_lexer": "ipython3",
   "version": "3.12.7"
  }
 },
 "nbformat": 4,
 "nbformat_minor": 5
}
